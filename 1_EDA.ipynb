{
 "cells": [
  {
   "cell_type": "markdown",
   "id": "971eaab0",
   "metadata": {},
   "source": [
    "# Natural Language Processings of Bookings.com Hotel Reviews - Exploratory Data Analysis \n",
    "\n",
    "Pippi de Bree"
   ]
  },
  {
   "cell_type": "markdown",
   "id": "57dd9d65",
   "metadata": {},
   "source": [
    "## Table of contents\n",
    "#### [Introduction](#Introduction)\n",
    "\n",
    "#### [Imports](#Imports)\n",
    "\n",
    "#### [Data Set](#Data-Set)\n",
    "\n",
    "#### [Data Wrangling](#Wrangling)\n",
    "- Data Format\n",
    "- Duplicates\n",
    "- Missing Values\n",
    "\n",
    "\n",
    "#### [Exploratory Data Analysis](#EDA)\n",
    "- Dependant Variable\n",
    "- Independent Variables \n",
    "    - Numeric Variables\n",
    "    - Categorical Variables\n",
    "\n",
    "#### [Conclusion](#Conclusion)"
   ]
  },
  {
   "cell_type": "markdown",
   "id": "244e7242",
   "metadata": {},
   "source": [
    "# Introduction <a id=Introduction a>\n",
    "\n",
    "This project considers the importance of \n",
    "\n",
    "In this notebook we will begin readying our data for making predictions on whether a reviewer scored a hotel well. The data contains various forms that will be altered into forms that are better encodable for modelling. We will explore different options for making categorical data usable in common classification models by looking at Encoding and Vectorising Strings of Words. "
   ]
  },
  {
   "cell_type": "markdown",
   "id": "d5a75f89",
   "metadata": {},
   "source": [
    "# Imports <a id=Imports a>"
   ]
  },
  {
   "cell_type": "markdown",
   "id": "c7f06cd5",
   "metadata": {},
   "source": [
    "Below we import some standard libraries that allow us to work more easily with the format of the data and perform statistical analysis.\n",
    "\n",
    "We also import a `ds_utils.py`, my personal library of Data Science functions that are used throughout this analysis. Their uses are explained here but there is more detailed explainations in the file, located in the current directory."
   ]
  },
  {
   "cell_type": "code",
   "execution_count": 34,
   "id": "79118fc4",
   "metadata": {},
   "outputs": [],
   "source": [
    "# pandas and numpy are used for data format, for easier manipulation.\n",
    "import pandas as pd\n",
    "import numpy as np"
   ]
  },
  {
   "cell_type": "code",
   "execution_count": 35,
   "id": "83d4474d",
   "metadata": {},
   "outputs": [],
   "source": [
    "# gives us access to math function\n",
    "import math"
   ]
  },
  {
   "cell_type": "code",
   "execution_count": 36,
   "id": "6e07e1d0",
   "metadata": {},
   "outputs": [],
   "source": [
    "# seaborn and variables matplotlib packages are used for visualiations.\n",
    "import seaborn as sns\n",
    "import matplotlib.pyplot as plt\n",
    "import matplotlib.gridspec as gridspec\n",
    "%matplotlib inline"
   ]
  },
  {
   "cell_type": "code",
   "execution_count": 37,
   "id": "96b3ef9d",
   "metadata": {},
   "outputs": [],
   "source": [
    "# Here I am importing my personal library of data science tools and functions\n",
    "import ds_utils \n",
    "import hotel_nlp"
   ]
  },
  {
   "cell_type": "markdown",
   "id": "635d5255",
   "metadata": {},
   "source": [
    "\n",
    "# Data Set <a id=Data-Set a>\n",
    "## Data Read In \n",
    "\n",
    "In order to read in our data we will use a method from the `ds_utils` package, which returns information about the missing values and duplicates."
   ]
  },
  {
   "cell_type": "code",
   "execution_count": 38,
   "id": "94ebd5dd",
   "metadata": {},
   "outputs": [
    {
     "name": "stdout",
     "output_type": "stream",
     "text": [
      "The DataFrame contains 515738 rows and 17 columns.\n",
      "There are 6536 missing values and 526 duplicated rows.\n"
     ]
    }
   ],
   "source": [
    "hr = ds_utils.read_csv_pd(\"data/Hotel_Reviews.csv\")"
   ]
  },
  {
   "cell_type": "markdown",
   "id": "877d9474",
   "metadata": {},
   "source": [
    "As can bee seen, there are some issues with the cleanliness of the data, but to ensure that it was well imported we will first check the form of the dataframe. "
   ]
  },
  {
   "cell_type": "code",
   "execution_count": 39,
   "id": "59d5e10d",
   "metadata": {},
   "outputs": [
    {
     "data": {
      "text/html": [
       "<div>\n",
       "<style scoped>\n",
       "    .dataframe tbody tr th:only-of-type {\n",
       "        vertical-align: middle;\n",
       "    }\n",
       "\n",
       "    .dataframe tbody tr th {\n",
       "        vertical-align: top;\n",
       "    }\n",
       "\n",
       "    .dataframe thead th {\n",
       "        text-align: right;\n",
       "    }\n",
       "</style>\n",
       "<table border=\"1\" class=\"dataframe\">\n",
       "  <thead>\n",
       "    <tr style=\"text-align: right;\">\n",
       "      <th></th>\n",
       "      <th>Hotel_Address</th>\n",
       "      <th>Additional_Number_of_Scoring</th>\n",
       "      <th>Review_Date</th>\n",
       "      <th>Average_Score</th>\n",
       "      <th>Hotel_Name</th>\n",
       "      <th>Reviewer_Nationality</th>\n",
       "      <th>Negative_Review</th>\n",
       "      <th>Review_Total_Negative_Word_Counts</th>\n",
       "      <th>Total_Number_of_Reviews</th>\n",
       "      <th>Positive_Review</th>\n",
       "      <th>Review_Total_Positive_Word_Counts</th>\n",
       "      <th>Total_Number_of_Reviews_Reviewer_Has_Given</th>\n",
       "      <th>Reviewer_Score</th>\n",
       "      <th>Tags</th>\n",
       "      <th>days_since_review</th>\n",
       "      <th>lat</th>\n",
       "      <th>lng</th>\n",
       "    </tr>\n",
       "  </thead>\n",
       "  <tbody>\n",
       "    <tr>\n",
       "      <th>0</th>\n",
       "      <td>s Gravesandestraat 55 Oost 1092 AA Amsterdam ...</td>\n",
       "      <td>194</td>\n",
       "      <td>8/3/2017</td>\n",
       "      <td>7.7</td>\n",
       "      <td>Hotel Arena</td>\n",
       "      <td>Russia</td>\n",
       "      <td>I am so angry that i made this post available...</td>\n",
       "      <td>397</td>\n",
       "      <td>1403</td>\n",
       "      <td>Only the park outside of the hotel was beauti...</td>\n",
       "      <td>11</td>\n",
       "      <td>7</td>\n",
       "      <td>2.9</td>\n",
       "      <td>[' Leisure trip ', ' Couple ', ' Duplex Double...</td>\n",
       "      <td>0 days</td>\n",
       "      <td>52.360576</td>\n",
       "      <td>4.915968</td>\n",
       "    </tr>\n",
       "    <tr>\n",
       "      <th>1</th>\n",
       "      <td>s Gravesandestraat 55 Oost 1092 AA Amsterdam ...</td>\n",
       "      <td>194</td>\n",
       "      <td>8/3/2017</td>\n",
       "      <td>7.7</td>\n",
       "      <td>Hotel Arena</td>\n",
       "      <td>Ireland</td>\n",
       "      <td>No Negative</td>\n",
       "      <td>0</td>\n",
       "      <td>1403</td>\n",
       "      <td>No real complaints the hotel was great great ...</td>\n",
       "      <td>105</td>\n",
       "      <td>7</td>\n",
       "      <td>7.5</td>\n",
       "      <td>[' Leisure trip ', ' Couple ', ' Duplex Double...</td>\n",
       "      <td>0 days</td>\n",
       "      <td>52.360576</td>\n",
       "      <td>4.915968</td>\n",
       "    </tr>\n",
       "  </tbody>\n",
       "</table>\n",
       "</div>"
      ],
      "text/plain": [
       "                                       Hotel_Address  \\\n",
       "0   s Gravesandestraat 55 Oost 1092 AA Amsterdam ...   \n",
       "1   s Gravesandestraat 55 Oost 1092 AA Amsterdam ...   \n",
       "\n",
       "   Additional_Number_of_Scoring Review_Date  Average_Score   Hotel_Name  \\\n",
       "0                           194    8/3/2017            7.7  Hotel Arena   \n",
       "1                           194    8/3/2017            7.7  Hotel Arena   \n",
       "\n",
       "  Reviewer_Nationality                                    Negative_Review  \\\n",
       "0              Russia    I am so angry that i made this post available...   \n",
       "1             Ireland                                         No Negative   \n",
       "\n",
       "   Review_Total_Negative_Word_Counts  Total_Number_of_Reviews  \\\n",
       "0                                397                     1403   \n",
       "1                                  0                     1403   \n",
       "\n",
       "                                     Positive_Review  \\\n",
       "0   Only the park outside of the hotel was beauti...   \n",
       "1   No real complaints the hotel was great great ...   \n",
       "\n",
       "   Review_Total_Positive_Word_Counts  \\\n",
       "0                                 11   \n",
       "1                                105   \n",
       "\n",
       "   Total_Number_of_Reviews_Reviewer_Has_Given  Reviewer_Score  \\\n",
       "0                                           7             2.9   \n",
       "1                                           7             7.5   \n",
       "\n",
       "                                                Tags days_since_review  \\\n",
       "0  [' Leisure trip ', ' Couple ', ' Duplex Double...            0 days   \n",
       "1  [' Leisure trip ', ' Couple ', ' Duplex Double...            0 days   \n",
       "\n",
       "         lat       lng  \n",
       "0  52.360576  4.915968  \n",
       "1  52.360576  4.915968  "
      ]
     },
     "execution_count": 39,
     "metadata": {},
     "output_type": "execute_result"
    }
   ],
   "source": [
    "# getting first 5 rows\n",
    "hr.head(2)"
   ]
  },
  {
   "cell_type": "markdown",
   "id": "8c0b7152",
   "metadata": {},
   "source": [
    "From this we can see that we have correctly read in our data, as all values in in columns that look correct and the index was created by the read in. We do know, however, that there are some changes we can make to make our data more usable. Before we do this, we are going to describe the format that the data is currently in. "
   ]
  },
  {
   "cell_type": "markdown",
   "id": "3bcecc0f",
   "metadata": {},
   "source": [
    "# Data Wrangling <a id=Wrangling a>\n",
    "\n",
    "## Data Format\n",
    "\n",
    "It is important to understand the current form of the data, so that we can best use it to create our model. From our read in we know there are 515738 rows and 17 columns. As we are trying to predict the score a reviewer gave to to a specific variable, we will need to look at which columns, of the 16 others, could potentially be used as independent variables (though we may consider creating more from the columns we have). The columns, as they appear in the dataset, are listed below. "
   ]
  },
  {
   "cell_type": "code",
   "execution_count": 40,
   "id": "7d8483ae",
   "metadata": {},
   "outputs": [
    {
     "name": "stdout",
     "output_type": "stream",
     "text": [
      "<class 'pandas.core.frame.DataFrame'>\n",
      "RangeIndex: 515738 entries, 0 to 515737\n",
      "Data columns (total 17 columns):\n",
      " #   Column                                      Non-Null Count   Dtype  \n",
      "---  ------                                      --------------   -----  \n",
      " 0   Hotel_Address                               515738 non-null  object \n",
      " 1   Additional_Number_of_Scoring                515738 non-null  int64  \n",
      " 2   Review_Date                                 515738 non-null  object \n",
      " 3   Average_Score                               515738 non-null  float64\n",
      " 4   Hotel_Name                                  515738 non-null  object \n",
      " 5   Reviewer_Nationality                        515738 non-null  object \n",
      " 6   Negative_Review                             515738 non-null  object \n",
      " 7   Review_Total_Negative_Word_Counts           515738 non-null  int64  \n",
      " 8   Total_Number_of_Reviews                     515738 non-null  int64  \n",
      " 9   Positive_Review                             515738 non-null  object \n",
      " 10  Review_Total_Positive_Word_Counts           515738 non-null  int64  \n",
      " 11  Total_Number_of_Reviews_Reviewer_Has_Given  515738 non-null  int64  \n",
      " 12  Reviewer_Score                              515738 non-null  float64\n",
      " 13  Tags                                        515738 non-null  object \n",
      " 14  days_since_review                           515738 non-null  object \n",
      " 15  lat                                         512470 non-null  float64\n",
      " 16  lng                                         512470 non-null  float64\n",
      "dtypes: float64(4), int64(5), object(8)\n",
      "memory usage: 66.9+ MB\n"
     ]
    }
   ],
   "source": [
    "hr.info()"
   ]
  },
  {
   "cell_type": "markdown",
   "id": "8a477b99",
   "metadata": {},
   "source": [
    "The variable we are going to try to predict: \n",
    "\n",
    "- `Reviewer_Score` - This is a score out of 10 that the user gave the hotel based on their experience. \n",
    "\n",
    "Based on:\n",
    "- `Hotel_Address` - This is a string of the address of the hotel \n",
    "- `Additional_Number_of_Scoring` - This is an integer, but the meaning of this column is not entirely clear. Given that we do not know the datasource, it is hard to know how this variable will behave. We will consider this further when we begin modelling. \n",
    "- `Review_Date` - This an object that contains the date the review was given (we may consider changing this to a datetime type).\n",
    "- `Average_Score` - This float is the average of the scores for the specific hotel \n",
    "- `Hotel_Name` - This is a string object for the name of the hotel.\n",
    "- `Reviewer_Nationality` - This is a string object for the country where the rater is from. \n",
    "- `Negative_Review` - This is a string that contains a negative review for the hotel stay. \n",
    "- `Review_Total_Negative_Word_Counts` - This is a count of 'negative' words used in the review (we may want to look more deeply into the definition of a negative word. It is an int, which makes sense. \n",
    "- `Total_Number_of_Reviews` - Total number of reviews is the total number of reviews for the \n",
    "- `Positive_Review` - This is a string that contains a positive review for the hotel stay.\n",
    "- `Review_Total_Positive_Word_Counts` - This is a count of 'positive' words used in the review (we may want to look more deeply into the definition of a positive word. It is an int, which makes sense. \n",
    "- `Total_Number_of_Reviews_Reviewer_Has_Given` - This int tracks the total number of reviews done by this specific reviewer\n",
    "- `Tags` - This is an object, specifically a list, that contains the 'tags' associated with the review.\n",
    "- `days_since_review` - This is an object that contains the number of days since the review was made (from this we could see the 'current' date of the dataset). (We will want to transform this from a string to an int).   \n",
    "- `lat` - A float for the latitude of the hotel \n",
    "- `lng` - A float for the longitude of the hotel\n",
    "\n",
    "\n",
    "Format changes to consider: \n",
    "- Datetime datatype for `Review_Date`\n",
    "- Check that `Additional_Number_of_Scoring` is what we think it is. \n",
    "- Check that `Average_Score` is calculated how we think it would be. \n",
    "- What defines a positive review, and what defines a negative review? Why are there two for some data points?\n",
    "- Which words are used for tags? (We will want to transform this).\n",
    "- Change the type of `days_since_review` to an int. \n",
    "- Check that lat and long are the same for all hotels\n",
    "- Look to see which hotels are missing values (and if we can use data we already have to fill these).\n",
    "    \n",
    "We will consider potential transformations for these columns after handling duplicated rows and missing values. "
   ]
  },
  {
   "cell_type": "markdown",
   "id": "07051916",
   "metadata": {},
   "source": [
    "## Duplicates "
   ]
  },
  {
   "cell_type": "markdown",
   "id": "b5dbb1f8",
   "metadata": {},
   "source": [
    "In our data import we saw that there are 526 duplicated rows, but before removing these it is helpful to look more deeply (there may be a reason for these duplications). We will see if there are any cases of the duplicates being multiples but checking for duplicates within this dataframe. "
   ]
  },
  {
   "cell_type": "code",
   "execution_count": 41,
   "id": "ce40599f",
   "metadata": {},
   "outputs": [
    {
     "name": "stdout",
     "output_type": "stream",
     "text": [
      "The number of duplicated rows that appear more than once is: 0\n"
     ]
    }
   ],
   "source": [
    "# Calculating how many duplicate appear more than once\n",
    "print(\"The number of duplicated rows that appear more than once is:\", hr[hr.duplicated()].duplicated().sum())"
   ]
  },
  {
   "cell_type": "markdown",
   "id": "0a8e4f47",
   "metadata": {},
   "source": [
    "There are no duplicates that occur more than twice in the original dataset, so there is no specific case that we over-added. Before we drop these duplicates we will look into the missing values. "
   ]
  },
  {
   "cell_type": "markdown",
   "id": "7333a613",
   "metadata": {},
   "source": [
    "## Missing Values\n",
    "\n",
    "The output from the `hr.info()` call above shows us that there are only missing values in the `lat` and `lon` variables. In order to explore the missing data, we will implement a function from the `hotel_nlp` package named `hotel_missing_explo`. It will consider the issues as described below.\n",
    "\n",
    "We expect to only see missing values for `lat` and `lon` and it could be assumed that, because there are the same number missing from both attributes, all rows missing `lat` are also missing `lon`. It would be helpful to be sure that these missing values are all from the same row, so this will be checked in the function.\n",
    "\n",
    "Given that coordinate data is missing, we can look more deeply into the locations at which this is happening. We will do this by grouping by address. We can then check wehter there is data for the hotels which have missing data. In other words, do we have access to the missing data already (as it could be reported for the hotel in other rows). To do this we will see if any of these hotels appear in the list of hotels for data points that are not missing any values. \n"
   ]
  },
  {
   "cell_type": "code",
   "execution_count": 42,
   "id": "23d21d97",
   "metadata": {},
   "outputs": [
    {
     "name": "stdout",
     "output_type": "stream",
     "text": [
      "Missing values by column:\n",
      "Hotel_Address                                    0\n",
      "Additional_Number_of_Scoring                     0\n",
      "Review_Date                                      0\n",
      "Average_Score                                    0\n",
      "Hotel_Name                                       0\n",
      "Reviewer_Nationality                             0\n",
      "Negative_Review                                  0\n",
      "Review_Total_Negative_Word_Counts                0\n",
      "Total_Number_of_Reviews                          0\n",
      "Positive_Review                                  0\n",
      "Review_Total_Positive_Word_Counts                0\n",
      "Total_Number_of_Reviews_Reviewer_Has_Given       0\n",
      "Reviewer_Score                                   0\n",
      "Tags                                             0\n",
      "days_since_review                                0\n",
      "lat                                           3268\n",
      "lng                                           3268\n",
      "dtype: int64\n",
      "\n",
      "\n",
      "\tAll missing values from 'lat' are also missing 'lng' values.\n",
      "\n",
      "\n",
      "Hotel Addresses with missing 'lat' and 'lon' values:\n",
      "                                                    Hotel_Address\n",
      "Hotel_Address                                                    \n",
      "20 Rue De La Ga t 14th arr 75014 Paris France                  37\n",
      "23 Rue Damr mont 18th arr 75018 Paris France                   55\n",
      "4 rue de la P pini re 8th arr 75008 Paris France              290\n",
      "Bail n 4 6 Eixample 08010 Barcelona Spain                     146\n",
      "Gr nentorgasse 30 09 Alsergrund 1090 Vienna Aus...             93\n",
      "Hasenauerstra e 12 19 D bling 1190 Vienna Austria              61\n",
      "Josefst dter Stra e 10 12 08 Josefstadt 1080 Vi...            658\n",
      "Josefst dter Stra e 22 08 Josefstadt 1080 Vienn...             57\n",
      "Landstra er G rtel 5 03 Landstra e 1030 Vienna ...            245\n",
      "Paragonstra e 1 11 Simmering 1110 Vienna Austria               49\n",
      "Pau Clar s 122 Eixample 08009 Barcelona Spain                  33\n",
      "Savoyenstra e 2 16 Ottakring 1160 Vienna Austria              194\n",
      "Sep lveda 180 Eixample 08011 Barcelona Spain                   28\n",
      "Sieveringer Stra e 4 19 D bling 1190 Vienna Aus...            147\n",
      "Taborstra e 8 A 02 Leopoldstadt 1020 Vienna Aus...            563\n",
      "W hringer Stra e 12 09 Alsergrund 1090 Vienna A...            223\n",
      "W hringer Stra e 33 35 09 Alsergrund 1090 Vienn...            389\n",
      "\n",
      "\n",
      "\t0 hotels that are missing data have coordinate location elsewhere in the dataset\n"
     ]
    }
   ],
   "source": [
    "hotel_nlp.hotel_missing_explo(hr)"
   ]
  },
  {
   "cell_type": "markdown",
   "id": "5cd1d00b",
   "metadata": {},
   "source": [
    "As this intersection is empty, we know that we cannot use any of the data we already have to fill in our missing latitude and longitude data. We expect to lose 3268 rows and, given that we expect to have 515212 rows after removing duplicates, we should end up with 51194 rows. Further exploration into filling these missing values would definitely be good practice but, given that we are going to use a sample of this data, we are going to drop these missing values."
   ]
  },
  {
   "cell_type": "code",
   "execution_count": 43,
   "id": "e6529686",
   "metadata": {},
   "outputs": [
    {
     "name": "stdout",
     "output_type": "stream",
     "text": [
      "There are 6536 missing values and 526 duplicated rows.\n",
      "\n",
      "526 duplicates removed.\n",
      "\n",
      "6536 missing values remaining\n",
      "\n",
      "Resulting DataFrame has 0 missing values and 0 duplicated rows. There are 511944 rows remaining.\n"
     ]
    }
   ],
   "source": [
    "hr_clean = ds_utils.remove_duplicates_and_missing(hr)"
   ]
  },
  {
   "cell_type": "markdown",
   "id": "17fea08d",
   "metadata": {},
   "source": [
    "From this output we can see that we have lost the correct number of rows. Now that we are happy with the shape and format of our data, we can begin to look more deeply into the how our attributes are formed. However, we will first save this cleaned version of our data. "
   ]
  },
  {
   "cell_type": "code",
   "execution_count": 44,
   "id": "b9e077b8",
   "metadata": {},
   "outputs": [],
   "source": [
    "# Exporting the clean version of our data to the 'data' folder\n",
    "hr_clean.to_csv('data/Hotel_Reviews_Clean.csv', index=False)"
   ]
  },
  {
   "cell_type": "markdown",
   "id": "848a02c5",
   "metadata": {},
   "source": [
    "# Exploratory Data Analysis <a id=EDA a>"
   ]
  },
  {
   "cell_type": "markdown",
   "id": "048c68ca",
   "metadata": {},
   "source": [
    "Now, we are ready to begin exploring the relationships between our variables. We will start with the form of our depenedent variable (which we are trying to predict) - `Reviewer_Score`."
   ]
  },
  {
   "cell_type": "markdown",
   "id": "37fe3e03",
   "metadata": {},
   "source": [
    "## Dependent Variable - `Reviewer_Score`\n",
    "\n",
    "As we are aiming to predict `Reviewer_Score` it is a good idea to begin by looking into this variable. The variable is originally a numeric value, so we will look into this distribution. My expectation would be that there would be a lot of very high rankings and a lot of low rankings. Intuitively, to me, when ranking people are fairly binary and really like something or really dislike it. "
   ]
  },
  {
   "cell_type": "code",
   "execution_count": 45,
   "id": "99e8008b",
   "metadata": {},
   "outputs": [
    {
     "data": {
      "text/plain": [
       "array([ 2.9,  7.5,  7.1,  3.8,  6.7,  4.6, 10. ,  6.5,  7.9,  5.8,  9.2,\n",
       "        8.8,  6.3,  5.4,  9.6,  8.3,  4.2,  3.3,  5. ,  2.5,  3.1,  6. ,\n",
       "        5.5,  9.5,  8. ,  8.5,  9. ,  4.5,  7. ,  5.6,  8.1,  6.9,  9.4,\n",
       "        3. ,  4. ,  3.5,  4.4])"
      ]
     },
     "execution_count": 45,
     "metadata": {},
     "output_type": "execute_result"
    }
   ],
   "source": [
    "hr_clean['Reviewer_Score'].unique()"
   ]
  },
  {
   "cell_type": "code",
   "execution_count": 46,
   "id": "85135976",
   "metadata": {},
   "outputs": [
    {
     "name": "stdout",
     "output_type": "stream",
     "text": [
      "Reviewer_Score Summary Statistics:\n",
      "count    511944.000000\n",
      "mean          8.396053\n",
      "std           1.637778\n",
      "min           2.500000\n",
      "25%           7.500000\n",
      "50%           8.800000\n",
      "75%           9.600000\n",
      "max          10.000000\n",
      "Name: Reviewer_Score, dtype: float64\n"
     ]
    },
    {
     "data": {
      "image/png": "[encoded data removed]",
      "text/plain": [
       "<Figure size 640x480 with 1 Axes>"
      ]
     },
     "metadata": {},
     "output_type": "display_data"
    }
   ],
   "source": [
    "ds_utils.num_var(hr_clean[['Reviewer_Score']])"
   ]
  },
  {
   "cell_type": "markdown",
   "id": "de7217f4",
   "metadata": {},
   "source": [
    "From this we can see that there is a major skew towards positive, and high ranking, reviews. This was not what I expected, as I thought there would be more negative reviews. This is potentially indicative of people not giving as many negative reviews, or not reflecting their opinions in their scores. It may also be the result of a biased dataset, maybe the hotels are too nice! \n",
    "\n",
    "Given that we are going to predict reviewer score, this distribution is an issue because if we use data that is heavily skewed towards positive reviews, our model will be as well. We will consider this issue further when creating our classes. As we are going to use classification to predict `Reviewer_Score` we need to change our data from numeric to categorical. It makes sense intuitively to do this, as it is more helpful to find rounded rating values (i.e. an integer) rather than a specific decimal rating. This can also be backed up by the fact that there is not a large range of decimal values - there are only 37 distinct ratings. If a continuous variable was going to be predicted, it would be more robust if there were far more distinct values (particularly as there are over half a million data points). \n",
    "\n",
    "The ranking is out of 10, so we assume that categories can go from 1 to 10. However, from the description output above, we know that the minimum is 2.5 - meaning that there are no ratings below this. In order to fairly create these buckets, the intention was to use the `numpy.round` function, because this essentially create a bin of all rows where the values falls within the range of half a number above and half below (e.g. 4.5 =< x < 5.5 would all be given the integer label 5). (Note we are rounding all values from .5 and up to the higher integer and below .5 to the lower). We can also consider the fact that the 10 bin can only get data from half the range, compared to the other values. However, because the data is so skewed we are not worried about missing out on this data. \n",
    "\n",
    "With this intention, and the fact that the minimum value is exactly 2.5, we will only get integer categories from 3 to 10 and will only look at the review scores from 3 to 10. \n",
    "\n",
    "However, when looking at the numpy.round function we saw that this function always rounds .5 values down. From the output above, we know that the scores only have one decimal point, so we will add 0.01 to every value. This will make .5 values round up and all other variables will not be affected because .4 will be .41 and values above 10 will be rounded down. \n",
    "\n",
    "As mentioned, we are doing this by rounding, and then we will make the datatype `int` for easily categorical work. We will not need to complexity of the float values for `Reviewer_Score`, so we will reassign our rounded version to this varibale name. "
   ]
  },
  {
   "cell_type": "code",
   "execution_count": 47,
   "id": "99960fba",
   "metadata": {},
   "outputs": [],
   "source": [
    "# replacing the variable with a rounded verison\n",
    "hr_clean['Reviewer_Score'] = round(hr_clean['Reviewer_Score'] + 0.01).astype(int)"
   ]
  },
  {
   "cell_type": "markdown",
   "id": "a82f163f",
   "metadata": {},
   "source": [
    "From the histogram above we know that the data is very skewed towards high scores, and this would not change after our rounding. For completeness, we will look at the distribution of our new categorical variable."
   ]
  },
  {
   "cell_type": "code",
   "execution_count": 48,
   "id": "d32d4c12",
   "metadata": {},
   "outputs": [
    {
     "name": "stdout",
     "output_type": "stream",
     "text": [
      "    Reviewer_Score\n",
      "10          186594\n",
      "8           108716\n",
      "9           105382\n",
      "7            44101\n",
      "6            27244\n",
      "5            24122\n",
      "4             9236\n",
      "3             6549\n"
     ]
    },
    {
     "data": {
      "image/png": "[encoded data removed]",
      "text/plain": [
       "<Figure size 640x480 with 1 Axes>"
      ]
     },
     "metadata": {},
     "output_type": "display_data"
    }
   ],
   "source": [
    "ds_utils.cat_var(hr_clean[['Reviewer_Score']])"
   ]
  },
  {
   "cell_type": "markdown",
   "id": "6ee46cca",
   "metadata": {},
   "source": [
    "From this output we can see that we still have a serious skew towards positive reviews. This is going to be an issue when we begin modelling because with a skew our models will have an inherent bias. Fortunately, we can combat this when training our model, as we can ensure that our sample has an equal distribution between categories."
   ]
  },
  {
   "cell_type": "markdown",
   "id": "0b028692",
   "metadata": {},
   "source": [
    "## Independent Variables "
   ]
  },
  {
   "cell_type": "markdown",
   "id": "fbad107b",
   "metadata": {},
   "source": [
    "Now we can start to look at the variables we may use to predict `Reviewer_Score`. It is helpful to think about these in two groups: numeric and non-numeric. Doing this will make it easier to explore the impact. \n",
    "\n",
    "To begin this we will use the `ds_utils` function `num_cat_col()`, which reports on the number of numeric and categorical variables and then returns dataframes with the values. As we are only looking at independent variables, we will omit `Reviewer_Score` from this analysis."
   ]
  },
  {
   "cell_type": "code",
   "execution_count": 49,
   "id": "e012389b",
   "metadata": {},
   "outputs": [
    {
     "name": "stdout",
     "output_type": "stream",
     "text": [
      "The Numeric columns: \n",
      "\tAdditional_Number_of_Scoring,\n",
      "\tAverage_Score,\n",
      "\tReview_Total_Negative_Word_Counts,\n",
      "\tTotal_Number_of_Reviews,\n",
      "\tReview_Total_Positive_Word_Counts,\n",
      "\tTotal_Number_of_Reviews_Reviewer_Has_Given,\n",
      "\tlat,\n",
      "\tlng\n",
      "\n",
      "The Categorical columns: \n",
      "\tReviewer_Nationality,\n",
      "\tHotel_Name,\n",
      "\tPositive_Review,\n",
      "\tReview_Date,\n",
      "\tHotel_Address,\n",
      "\tTags,\n",
      "\tNegative_Review,\n",
      "\tdays_since_review\n"
     ]
    }
   ],
   "source": [
    "hr_num_clean, hr_cat_clean = ds_utils.num_cat_cols(hr_clean[['Hotel_Address', 'Additional_Number_of_Scoring', 'Review_Date',\n",
    "       'Average_Score', 'Hotel_Name', 'Reviewer_Nationality',\n",
    "       'Negative_Review', 'Review_Total_Negative_Word_Counts',\n",
    "       'Total_Number_of_Reviews', 'Positive_Review',\n",
    "       'Review_Total_Positive_Word_Counts',\n",
    "       'Total_Number_of_Reviews_Reviewer_Has_Given', 'Tags',\n",
    "       'days_since_review', 'lat', 'lng']])"
   ]
  },
  {
   "cell_type": "markdown",
   "id": "c7d98e9b",
   "metadata": {},
   "source": [
    "The listed above groupings show us the numeric and non-numeric datatypes, stated as categorical. If we think more deeply about the actual numeric columns, it makes sense that these are all numeric. All of the variables, except lat and lon are intuitivly numeric as they are measures of some value. The lat and lon columns are slightly more complex as they are numeric based on location. We will start by diving more deeply into these numeric columns."
   ]
  },
  {
   "cell_type": "markdown",
   "id": "9bc6aa08",
   "metadata": {},
   "source": [
    "## Numeric Values "
   ]
  },
  {
   "cell_type": "markdown",
   "id": "9bc47cda",
   "metadata": {},
   "source": [
    "Our numeric attributes, as listed above, will be summarised using the `num_var` feature from the utils library. This will show us basic summaries of the attributes so that we can consider looking more deeply. "
   ]
  },
  {
   "cell_type": "code",
   "execution_count": 50,
   "id": "0e64b0cb",
   "metadata": {
    "scrolled": false
   },
   "outputs": [
    {
     "name": "stdout",
     "output_type": "stream",
     "text": [
      "Additional_Number_of_Scoring Summary Statistics:\n",
      "count    511944.000000\n",
      "mean        500.456802\n",
      "std         501.549523\n",
      "min           1.000000\n",
      "25%         169.000000\n",
      "50%         343.000000\n",
      "75%         666.000000\n",
      "max        2682.000000\n",
      "Name: Additional_Number_of_Scoring, dtype: float64\n"
     ]
    },
    {
     "data": {
      "image/png": "[encoded data removed]",
      "text/plain": [
       "<Figure size 640x480 with 1 Axes>"
      ]
     },
     "metadata": {},
     "output_type": "display_data"
    },
    {
     "name": "stdout",
     "output_type": "stream",
     "text": [
      "Average_Score Summary Statistics:\n",
      "count    511944.000000\n",
      "mean          8.398216\n",
      "std           0.549038\n",
      "min           5.200000\n",
      "25%           8.100000\n",
      "50%           8.400000\n",
      "75%           8.800000\n",
      "max           9.800000\n",
      "Name: Average_Score, dtype: float64\n"
     ]
    },
    {
     "data": {
      "image/png": "[encoded data removed]",
      "text/plain": [
       "<Figure size 640x480 with 1 Axes>"
      ]
     },
     "metadata": {},
     "output_type": "display_data"
    },
    {
     "name": "stdout",
     "output_type": "stream",
     "text": [
      "Review_Total_Negative_Word_Counts Summary Statistics:\n",
      "count    511944.000000\n",
      "mean         18.543247\n",
      "std          29.696878\n",
      "min           0.000000\n",
      "25%           2.000000\n",
      "50%           9.000000\n",
      "75%          23.000000\n",
      "max         408.000000\n",
      "Name: Review_Total_Negative_Word_Counts, dtype: float64\n"
     ]
    },
    {
     "data": {
      "image/png": "[encoded data removed]",
      "text/plain": [
       "<Figure size 640x480 with 1 Axes>"
      ]
     },
     "metadata": {},
     "output_type": "display_data"
    },
    {
     "name": "stdout",
     "output_type": "stream",
     "text": [
      "Total_Number_of_Reviews Summary Statistics:\n",
      "count    511944.000000\n",
      "mean       2748.469807\n",
      "std        2323.330791\n",
      "min          43.000000\n",
      "25%        1161.000000\n",
      "50%        2134.000000\n",
      "75%        3633.000000\n",
      "max       16670.000000\n",
      "Name: Total_Number_of_Reviews, dtype: float64\n"
     ]
    },
    {
     "data": {
      "image/png": "[encoded data removed]",
      "text/plain": [
       "<Figure size 640x480 with 1 Axes>"
      ]
     },
     "metadata": {},
     "output_type": "display_data"
    },
    {
     "name": "stdout",
     "output_type": "stream",
     "text": [
      "Review_Total_Positive_Word_Counts Summary Statistics:\n",
      "count    511944.000000\n",
      "mean         17.766849\n",
      "std          21.789369\n",
      "min           0.000000\n",
      "25%           5.000000\n",
      "50%          11.000000\n",
      "75%          22.000000\n",
      "max         395.000000\n",
      "Name: Review_Total_Positive_Word_Counts, dtype: float64\n"
     ]
    },
    {
     "data": {
      "image/png": "[encoded data removed]",
      "text/plain": [
       "<Figure size 640x480 with 1 Axes>"
      ]
     },
     "metadata": {},
     "output_type": "display_data"
    },
    {
     "name": "stdout",
     "output_type": "stream",
     "text": [
      "Total_Number_of_Reviews_Reviewer_Has_Given Summary Statistics:\n",
      "count    511944.000000\n",
      "mean          7.151145\n",
      "std          11.028050\n",
      "min           1.000000\n",
      "25%           1.000000\n",
      "50%           3.000000\n",
      "75%           8.000000\n",
      "max         355.000000\n",
      "Name: Total_Number_of_Reviews_Reviewer_Has_Given, dtype: float64\n"
     ]
    },
    {
     "data": {
      "image/png": "[encoded data removed]",
      "text/plain": [
       "<Figure size 640x480 with 1 Axes>"
      ]
     },
     "metadata": {},
     "output_type": "display_data"
    },
    {
     "name": "stdout",
     "output_type": "stream",
     "text": [
      "lat Summary Statistics:\n",
      "count    511944.000000\n",
      "mean         49.443040\n",
      "std           3.468029\n",
      "min          41.328376\n",
      "25%          48.214277\n",
      "50%          51.499981\n",
      "75%          51.516288\n",
      "max          52.400181\n",
      "Name: lat, dtype: float64\n"
     ]
    },
    {
     "data": {
      "image/png": "[encoded data removed]",
      "text/plain": [
       "<Figure size 640x480 with 1 Axes>"
      ]
     },
     "metadata": {},
     "output_type": "display_data"
    },
    {
     "name": "stdout",
     "output_type": "stream",
     "text": [
      "lng Summary Statistics:\n",
      "count    511944.000000\n",
      "mean          2.824222\n",
      "std           4.581637\n",
      "min          -0.369758\n",
      "25%          -0.143649\n",
      "50%          -0.000250\n",
      "75%           4.834443\n",
      "max          16.429233\n",
      "Name: lng, dtype: float64\n"
     ]
    },
    {
     "data": {
      "image/png": "[encoded data removed]",
      "text/plain": [
       "<Figure size 640x480 with 1 Axes>"
      ]
     },
     "metadata": {},
     "output_type": "display_data"
    }
   ],
   "source": [
    "ds_utils.num_var(hr_clean[hr_num_clean])"
   ]
  },
  {
   "cell_type": "code",
   "execution_count": 51,
   "id": "056379eb",
   "metadata": {},
   "outputs": [
    {
     "data": {
      "text/plain": [
       "Index(['Additional_Number_of_Scoring', 'Average_Score',\n",
       "       'Review_Total_Negative_Word_Counts', 'Total_Number_of_Reviews',\n",
       "       'Review_Total_Positive_Word_Counts',\n",
       "       'Total_Number_of_Reviews_Reviewer_Has_Given', 'lat', 'lng'],\n",
       "      dtype='object')"
      ]
     },
     "execution_count": 51,
     "metadata": {},
     "output_type": "execute_result"
    }
   ],
   "source": [
    "hr_clean[hr_num_clean].columns"
   ]
  },
  {
   "cell_type": "markdown",
   "id": "9bd626e1",
   "metadata": {},
   "source": [
    "From this output above we can see that there are some skews in our numeric variables. \n",
    "\n",
    "`Additional_Number_of_Scoring` - This is right skew because the mean is higher than the mean. \n",
    "\n",
    "`Average_Score` - Though this does not look entirely normal, the distribution is not at all skewed, from the summary statistics we can see that the mean is 8.397 and the median is 8.4. It may be a good idea to bin this data into whole number categories, as we have done with `Reviewer_Score`.\n",
    "\n",
    "`Review_Total_Negative_Word_Counts` - It makes sense that this output is so right skewed because there are a quite a few instances where there are no negative words, so this value is 0. The code below shows that this is nearly 25%. "
   ]
  },
  {
   "cell_type": "code",
   "execution_count": 52,
   "id": "f322c7b3",
   "metadata": {},
   "outputs": [
    {
     "name": "stdout",
     "output_type": "stream",
     "text": [
      "Proportion 0 \"Review_Total_Negative_Word_Counts\": 0.25\n",
      "Proportion 0 \"Review_Total_Positive_Word_Counts\": 0.07\n"
     ]
    }
   ],
   "source": [
    "print(\"Proportion 0 \\\"Review_Total_Negative_Word_Counts\\\":\",\n",
    "      round((hr_clean['Review_Total_Negative_Word_Counts'] == 0).sum() / len(hr_clean), 2))\n",
    "print(\"Proportion 0 \\\"Review_Total_Positive_Word_Counts\\\":\",\n",
    "      round((hr_clean['Review_Total_Positive_Word_Counts'] == 0).sum() / len(hr_clean), 2))"
   ]
  },
  {
   "cell_type": "markdown",
   "id": "d095a0cb",
   "metadata": {},
   "source": [
    "`Total_Number_of_Reviews` - For this variable there is a large spread, the median is near 2000 while the max is more than 16,000. This makes sense given that hotels have different capacities and there may be an element of seasonality that affects some more than others. For this class it may be useful to create a dummy variable of whether a user is a frequent reviewer or not. If we take the median value from the IQR, 3, as a cut off, we could see any reviewer who has reviewed more than this as someone who frequently reviews the hotels they stay at. \n",
    "\n",
    "`Review_Total_Positive_Word_Counts` - There are a lot less zero values for this variable than  `Review_Total_Negative_Word_Counts`, as the code above shows only 7% have no positive words. This may be the result of the major skew towards positive reviews that we see in the dataset as a whole.\n",
    "\n",
    "`Total_Number_of_Reviews_Reviewer_Has_Given` - This variable is interesting because it shows that there are some guests who write a lot of hotel reviews, but most have written less than 10. It could be suggested that these extreme reviewers are outliers, but it seems more intuitive to think that they may be important to keep in our dataset. \n",
    "\n",
    "`lat & lng` - These are harder to interpret numerically, but the histograms do show that there may be areas where the hotels are grouped together. These locations may be potentially have an impact on overall review score - if these hotels are in a city that is loved the reviews may skew more positive because of this.\n",
    "\n",
    "### Potential Alterations for Numeric Variables\n",
    "\n",
    "Leave as is: \n",
    "- `lat`\n",
    "- `lng`\n",
    "\n",
    "Binning:\n",
    "- `Average_Score`\n",
    "- `Total_Number_of_Reviews`\n",
    "- `Total_Number_of_Reviews_Reviewer_Has_Given`\n",
    "\n",
    "Unsure About Using (Leave as is for now)\n",
    "- `Additional_Number_of_Scoring`\n",
    "- `Review_Total_Negative_Word_Counts`\n",
    "- `Review_Total_Positive_Word_Counts`\n",
    "\n",
    "Now that we have looked into our Numeric Columns it is time to consider the non-numeric columns."
   ]
  },
  {
   "cell_type": "markdown",
   "id": "3dc7bb84",
   "metadata": {},
   "source": [
    "## Non-Numeric Values "
   ]
  },
  {
   "cell_type": "markdown",
   "id": "cb6f356e",
   "metadata": {},
   "source": [
    "Looking into non-numeric values is important because these are not as easily usable in many models. For this reason we need to consider ways we could make changes to these variables in order to have them contribute to our modelling. Before diving deeply into specific variables, it is helpful to have an overview of their distribution. Like with the numeric variables we will use a function from the `ds_utils` library, but this time geared towards categorical variables. \n",
    "\n",
    "As a reminder, our non-numeric variables are:\n",
    "- `Hotel_Address`\n",
    "- `Review_Date`\n",
    "- `Hotel_Name`\n",
    "- `Reviewer_Nationality`\n",
    "- `Negative_Review`\n",
    "- `Positive_Review`\n",
    "- `Tags`\n",
    "- `days_since_review`"
   ]
  },
  {
   "cell_type": "code",
   "execution_count": 53,
   "id": "6d0f6185",
   "metadata": {
    "scrolled": true
   },
   "outputs": [
    {
     "name": "stdout",
     "output_type": "stream",
     "text": [
      "Number of Unique Reviewer_Nationality Values: 227\n",
      "Number of Unique Hotel_Name Values: 1475\n",
      "Number of Unique Positive_Review Values: 409941\n",
      "Number of Unique Review_Date Values: 731\n",
      "Number of Unique Hotel_Address Values: 1476\n",
      "Number of Unique Tags Values: 54934\n",
      "Number of Unique Negative_Review Values: 327927\n",
      "Number of Unique days_since_review Values: 731\n"
     ]
    }
   ],
   "source": [
    "ds_utils.cat_var(hr_clean[hr_cat_clean])"
   ]
  },
  {
   "cell_type": "markdown",
   "id": "287d49dd",
   "metadata": {},
   "source": [
    "From this output we can see that there are some variables with very high numbers of unique values. At this point it is helpful to look at the categories specifically. "
   ]
  },
  {
   "cell_type": "markdown",
   "id": "3c0ef2e9",
   "metadata": {},
   "source": [
    "###  `Hotel_Address` and `Hotel_Name`\n",
    "\n",
    "From our datatype exploration we saw that the values in these columns are strings of the address of the hotel and the hotel name. Both of these variables could be used as a unique identifier for the hotels. However, this assumption is based on the fact that there are no hotels with the same name, but different addresses. From the unique number outputs above we can see that there are 1493 `Hotel_Address` values but only 1492 `Hotel_Name` values. This is an issue that we may have beyond the dataset, if we were to add more data, so we want to avoid this. \n",
    "\n",
    "Both of these columns can be turned to numeric encodings of for the unique hotels. However, to be sure that the each hotel is unique represented in the data it makes more sense to use `Hotel_Address` because no two hotels can have identical addresses. When we encode this we will loose the location information we could get from this, but we do not mind this because we already have location data in the form of `lat` and `lon`. After doing this, `Hotel_Name` will be redundant, so we may consider dropping it. \n",
    "\n",
    "We can, however, look at if we can use the information stored with in the `Hotel_Address` variable to create a new variable. For example, country or city variables could be extracted. To check the viability of this we will look at the unique words at the end of the strings (our exploration showed that these tend to be the country, and that city is the word before). "
   ]
  },
  {
   "cell_type": "code",
   "execution_count": 68,
   "id": "6ecfd899",
   "metadata": {},
   "outputs": [
    {
     "name": "stdout",
     "output_type": "stream",
     "text": [
      "['Netherlands' 'Kingdom' 'France' 'Spain' 'Italy' 'Austria']\n"
     ]
    }
   ],
   "source": [
    "print(hr_clean['Hotel_Address'].str.split(' ').apply(lambda x: x[-1]).unique())"
   ]
  },
  {
   "cell_type": "markdown",
   "id": "ab6ef1d8",
   "metadata": {},
   "source": [
    "From this we can see that there are only six unique countries in the dataset (if the country appaeared anywhere else in the string it could not be represented here by another country). We will check how many cities are represented, on the assumption that the city comes as the second to last word."
   ]
  },
  {
   "cell_type": "code",
   "execution_count": 74,
   "id": "c12ed3a1",
   "metadata": {
    "scrolled": true
   },
   "outputs": [
    {
     "name": "stdout",
     "output_type": "stream",
     "text": [
      "['Amsterdam' 'United' 'Paris' 'Barcelona' 'Milan' 'Vienna']\n"
     ]
    }
   ],
   "source": [
    "print(hr_clean['Hotel_Address'].str.split(' ').apply(lambda x: x[-2]).unique())"
   ]
  },
  {
   "cell_type": "markdown",
   "id": "24af33f5",
   "metadata": {},
   "source": [
    "We know that `Kingdom` represents the United Kingdom because all the other cities map to a specific country. As these mappings are one-to-one, it makes sense to only continue on with the country as a potential new variable. This is contingent on there only being reviews for hotels in London for UK addresses."
   ]
  },
  {
   "cell_type": "code",
   "execution_count": 91,
   "id": "dddc3762",
   "metadata": {},
   "outputs": [
    {
     "name": "stdout",
     "output_type": "stream",
     "text": [
      "True\n"
     ]
    }
   ],
   "source": [
    "print(len(hr_clean[hr_clean['Hotel_Address'].str.split(' ').apply(lambda x: x[-1]) == 'Kingdom']) == sum(hr_clean['Hotel_Address'].str.contains(\"London\")))"
   ]
  },
  {
   "cell_type": "markdown",
   "id": "ed5db275",
   "metadata": {},
   "source": [
    "Every hotel in the UK, in this dataset, is in London. Therefore, a city attribute would be redundant and only country will be used - this will be added in the preprocessing."
   ]
  },
  {
   "cell_type": "markdown",
   "id": "0a22eb02",
   "metadata": {},
   "source": [
    "### `Review_Date` and `days_since_review`\n",
    "\n",
    "From the number of unique values seen above, it is clear that `Review_Date` and `days_since_review` are very linked. We will use the `equal_transform` function from the utils library to see whether these variables are essentially transformations of one another. "
   ]
  },
  {
   "cell_type": "code",
   "execution_count": 90,
   "id": "7aecceb2",
   "metadata": {
    "scrolled": false
   },
   "outputs": [
    {
     "name": "stdout",
     "output_type": "stream",
     "text": [
      "Series are equal.\n"
     ]
    }
   ],
   "source": [
    "ds_utils.equal_transform(hr_clean['Review_Date'],hr_clean['days_since_review'])"
   ]
  },
  {
   "cell_type": "markdown",
   "id": "8a5b3f2f",
   "metadata": {},
   "source": [
    "From this we can see that these two are inherently linked - because of this we may consider that only one of these two will add value to our modelling. From our inspection of datatypes we saw that the `Review_Date` column is in the form of a string, however we can easily change this to a datetime type. The `days_since_review` variable is also in the form of a string, and can very easily be transformed into a numeric column. Using an integer, rather than datatype, version of this data would be easier when thinking about applying the data to models.\n",
    "\n",
    "Therefore we will leave `Review_Date` as is, because we will not use it in our modelling. Instead we will go ahead with altering the `days_since_review` variables. This will be done using a lambda function. The string is split by the space between the digits and the 'day' or 'days' distinction, from these lists just the first value, the digits, are selected and these are then turned to integers.\n",
    "\n",
    "We will check this transformation with the `equal_transform` function."
   ]
  },
  {
   "cell_type": "code",
   "execution_count": 55,
   "id": "636c879c",
   "metadata": {
    "scrolled": true
   },
   "outputs": [
    {
     "name": "stdout",
     "output_type": "stream",
     "text": [
      "Series are equal.\n"
     ]
    }
   ],
   "source": [
    "# making the transformation \n",
    "days_transform = hr_clean['days_since_review'].apply(lambda x: int(x.split(\" \")[0]))\n",
    "\n",
    "# checking the value counts of the transformation is equal before and after. \n",
    "ds_utils.equal_transform(hr_clean['days_since_review'],days_transform)"
   ]
  },
  {
   "cell_type": "markdown",
   "id": "a24ba890",
   "metadata": {},
   "source": [
    "As these are equal we can permanently make this change to our dataset."
   ]
  },
  {
   "cell_type": "code",
   "execution_count": 56,
   "id": "bb84c6e7",
   "metadata": {
    "scrolled": true
   },
   "outputs": [],
   "source": [
    "# Changing out string days since review to an integer\n",
    "hr_clean['days_since_review'] = days_transform"
   ]
  },
  {
   "cell_type": "markdown",
   "id": "3163f75d",
   "metadata": {},
   "source": [
    "Now that we have changed `days_since_review` to a numeric variable, it is helpful to look at it's distribution."
   ]
  },
  {
   "cell_type": "code",
   "execution_count": 57,
   "id": "211def74",
   "metadata": {
    "scrolled": false
   },
   "outputs": [
    {
     "name": "stdout",
     "output_type": "stream",
     "text": [
      "days_since_review Summary Statistics:\n",
      "count    511944.000000\n",
      "mean        354.359768\n",
      "std         208.894266\n",
      "min           0.000000\n",
      "25%         175.000000\n",
      "50%         353.000000\n",
      "75%         527.000000\n",
      "max         730.000000\n",
      "Name: days_since_review, dtype: float64\n"
     ]
    },
    {
     "data": {
      "image/png": "[encoded data removed]",
      "text/plain": [
       "<Figure size 640x480 with 1 Axes>"
      ]
     },
     "metadata": {},
     "output_type": "display_data"
    }
   ],
   "source": [
    "# using the ds_utils variable \n",
    "ds_utils.num_var(hr_clean[['days_since_review']])"
   ]
  },
  {
   "cell_type": "markdown",
   "id": "8acc15a6",
   "metadata": {},
   "source": [
    "This data is fairly equally distributed, so we may want to consider binning it. "
   ]
  },
  {
   "cell_type": "markdown",
   "id": "fad1ed2f",
   "metadata": {},
   "source": [
    "### `Reviewer_Nationality`"
   ]
  },
  {
   "cell_type": "code",
   "execution_count": 58,
   "id": "af92e474",
   "metadata": {
    "scrolled": true
   },
   "outputs": [
    {
     "data": {
      "text/html": [
       "<div>\n",
       "<style scoped>\n",
       "    .dataframe tbody tr th:only-of-type {\n",
       "        vertical-align: middle;\n",
       "    }\n",
       "\n",
       "    .dataframe tbody tr th {\n",
       "        vertical-align: top;\n",
       "    }\n",
       "\n",
       "    .dataframe thead th {\n",
       "        text-align: right;\n",
       "    }\n",
       "</style>\n",
       "<table border=\"1\" class=\"dataframe\">\n",
       "  <thead>\n",
       "    <tr style=\"text-align: right;\">\n",
       "      <th></th>\n",
       "      <th>Reviewer_Nationality</th>\n",
       "    </tr>\n",
       "  </thead>\n",
       "  <tbody>\n",
       "    <tr>\n",
       "      <th>0</th>\n",
       "      <td>Russia</td>\n",
       "    </tr>\n",
       "    <tr>\n",
       "      <th>1</th>\n",
       "      <td>Ireland</td>\n",
       "    </tr>\n",
       "    <tr>\n",
       "      <th>2</th>\n",
       "      <td>Australia</td>\n",
       "    </tr>\n",
       "    <tr>\n",
       "      <th>3</th>\n",
       "      <td>United Kingdom</td>\n",
       "    </tr>\n",
       "    <tr>\n",
       "      <th>4</th>\n",
       "      <td>New Zealand</td>\n",
       "    </tr>\n",
       "  </tbody>\n",
       "</table>\n",
       "</div>"
      ],
      "text/plain": [
       "  Reviewer_Nationality\n",
       "0              Russia \n",
       "1             Ireland \n",
       "2           Australia \n",
       "3      United Kingdom \n",
       "4         New Zealand "
      ]
     },
     "execution_count": 58,
     "metadata": {},
     "output_type": "execute_result"
    }
   ],
   "source": [
    "hr_clean[['Reviewer_Nationality']].head()"
   ]
  },
  {
   "cell_type": "markdown",
   "id": "f85cd6ab",
   "metadata": {},
   "source": [
    "This variable has 227 unique variables and for this reason could definitely be turned into a numeric encoding. As with `Hotel_Address`, we will consider this after looking at all of the potential changes to categorical variables. This variable may be useful in our analysis as there may be a cultural factor that this variable may pick up on."
   ]
  },
  {
   "cell_type": "markdown",
   "id": "3adc0ac4",
   "metadata": {},
   "source": [
    "### `Negative_Review` and `Positive_Review`"
   ]
  },
  {
   "cell_type": "code",
   "execution_count": 59,
   "id": "52f8ff63",
   "metadata": {
    "scrolled": true
   },
   "outputs": [
    {
     "data": {
      "text/html": [
       "<div>\n",
       "<style scoped>\n",
       "    .dataframe tbody tr th:only-of-type {\n",
       "        vertical-align: middle;\n",
       "    }\n",
       "\n",
       "    .dataframe tbody tr th {\n",
       "        vertical-align: top;\n",
       "    }\n",
       "\n",
       "    .dataframe thead th {\n",
       "        text-align: right;\n",
       "    }\n",
       "</style>\n",
       "<table border=\"1\" class=\"dataframe\">\n",
       "  <thead>\n",
       "    <tr style=\"text-align: right;\">\n",
       "      <th></th>\n",
       "      <th>Negative_Review</th>\n",
       "      <th>Positive_Review</th>\n",
       "    </tr>\n",
       "  </thead>\n",
       "  <tbody>\n",
       "    <tr>\n",
       "      <th>0</th>\n",
       "      <td>I am so angry that i made this post available...</td>\n",
       "      <td>Only the park outside of the hotel was beauti...</td>\n",
       "    </tr>\n",
       "    <tr>\n",
       "      <th>1</th>\n",
       "      <td>No Negative</td>\n",
       "      <td>No real complaints the hotel was great great ...</td>\n",
       "    </tr>\n",
       "    <tr>\n",
       "      <th>2</th>\n",
       "      <td>Rooms are nice but for elderly a bit difficul...</td>\n",
       "      <td>Location was good and staff were ok It is cut...</td>\n",
       "    </tr>\n",
       "    <tr>\n",
       "      <th>3</th>\n",
       "      <td>My room was dirty and I was afraid to walk ba...</td>\n",
       "      <td>Great location in nice surroundings the bar a...</td>\n",
       "    </tr>\n",
       "    <tr>\n",
       "      <th>4</th>\n",
       "      <td>You When I booked with your company on line y...</td>\n",
       "      <td>Amazing location and building Romantic setting</td>\n",
       "    </tr>\n",
       "  </tbody>\n",
       "</table>\n",
       "</div>"
      ],
      "text/plain": [
       "                                     Negative_Review  \\\n",
       "0   I am so angry that i made this post available...   \n",
       "1                                        No Negative   \n",
       "2   Rooms are nice but for elderly a bit difficul...   \n",
       "3   My room was dirty and I was afraid to walk ba...   \n",
       "4   You When I booked with your company on line y...   \n",
       "\n",
       "                                     Positive_Review  \n",
       "0   Only the park outside of the hotel was beauti...  \n",
       "1   No real complaints the hotel was great great ...  \n",
       "2   Location was good and staff were ok It is cut...  \n",
       "3   Great location in nice surroundings the bar a...  \n",
       "4    Amazing location and building Romantic setting   "
      ]
     },
     "execution_count": 59,
     "metadata": {},
     "output_type": "execute_result"
    }
   ],
   "source": [
    "hr_clean[['Negative_Review', 'Positive_Review']].head()"
   ]
  },
  {
   "cell_type": "markdown",
   "id": "d58c2b04",
   "metadata": {},
   "source": [
    "These variables are more complicated to handle but are very valuable in terms understanding the experience a reviewer had. The words used in these reviews in themselves will have value in deciding if a review is positive or not. For this reason, we will use a vectoriser to look into which words, or lemmas, are relevant in predicting whether a review is positive or negative. However, we do see that there are instances of `No Negative` review in the `Negative_Review` variable."
   ]
  },
  {
   "cell_type": "code",
   "execution_count": 60,
   "id": "2253c333",
   "metadata": {
    "scrolled": true
   },
   "outputs": [
    {
     "name": "stdout",
     "output_type": "stream",
     "text": [
      "Number of 'No Negative' values in 'Negative_Review': 126902\n",
      "Number of 'No Positive' values in 'Positive_Review': 35695\n"
     ]
    }
   ],
   "source": [
    "print(\"Number of \\'No Negative\\' values in \\'Negative_Review\\':\",\n",
    "      len(hr_clean[hr_clean['Negative_Review'] == 'No Negative']))\n",
    "print(\"Number of \\'No Positive\\' values in \\'Positive_Review\\':\",\n",
    "      len(hr_clean[hr_clean['Positive_Review'] == 'No Positive']))"
   ]
  },
  {
   "cell_type": "markdown",
   "id": "0c483b99",
   "metadata": {},
   "source": [
    "As we are going to vectorise these, we will remove these words and replace them with an empty string, so that no values can come from these (we will do this in our preprocessing). "
   ]
  },
  {
   "cell_type": "markdown",
   "id": "1651efe8",
   "metadata": {},
   "source": [
    "### `Tags`"
   ]
  },
  {
   "cell_type": "code",
   "execution_count": 62,
   "id": "91cff88c",
   "metadata": {},
   "outputs": [
    {
     "data": {
      "text/html": [
       "<div>\n",
       "<style scoped>\n",
       "    .dataframe tbody tr th:only-of-type {\n",
       "        vertical-align: middle;\n",
       "    }\n",
       "\n",
       "    .dataframe tbody tr th {\n",
       "        vertical-align: top;\n",
       "    }\n",
       "\n",
       "    .dataframe thead th {\n",
       "        text-align: right;\n",
       "    }\n",
       "</style>\n",
       "<table border=\"1\" class=\"dataframe\">\n",
       "  <thead>\n",
       "    <tr style=\"text-align: right;\">\n",
       "      <th></th>\n",
       "      <th>Tags</th>\n",
       "    </tr>\n",
       "  </thead>\n",
       "  <tbody>\n",
       "    <tr>\n",
       "      <th>0</th>\n",
       "      <td>[' Leisure trip ', ' Couple ', ' Duplex Double...</td>\n",
       "    </tr>\n",
       "    <tr>\n",
       "      <th>1</th>\n",
       "      <td>[' Leisure trip ', ' Couple ', ' Duplex Double...</td>\n",
       "    </tr>\n",
       "    <tr>\n",
       "      <th>2</th>\n",
       "      <td>[' Leisure trip ', ' Family with young childre...</td>\n",
       "    </tr>\n",
       "    <tr>\n",
       "      <th>3</th>\n",
       "      <td>[' Leisure trip ', ' Solo traveler ', ' Duplex...</td>\n",
       "    </tr>\n",
       "    <tr>\n",
       "      <th>4</th>\n",
       "      <td>[' Leisure trip ', ' Couple ', ' Suite ', ' St...</td>\n",
       "    </tr>\n",
       "  </tbody>\n",
       "</table>\n",
       "</div>"
      ],
      "text/plain": [
       "                                                Tags\n",
       "0  [' Leisure trip ', ' Couple ', ' Duplex Double...\n",
       "1  [' Leisure trip ', ' Couple ', ' Duplex Double...\n",
       "2  [' Leisure trip ', ' Family with young childre...\n",
       "3  [' Leisure trip ', ' Solo traveler ', ' Duplex...\n",
       "4  [' Leisure trip ', ' Couple ', ' Suite ', ' St..."
      ]
     },
     "execution_count": 62,
     "metadata": {},
     "output_type": "execute_result"
    }
   ],
   "source": [
    "# Looking at the start of the tags column\n",
    "hr_clean[['Tags']].head()"
   ]
  },
  {
   "cell_type": "markdown",
   "id": "060522f3",
   "metadata": {},
   "source": [
    "The tags variable is interesting because it is a list of attributes associated with the specific stay at the hotel. It could add a layer of understanding of the reviewer and their reason for the trip. For example the reviewer being a solo traveller vs with a family or in a couple could change their perspective. There are many cases of these differences in trip. We could turn this into a long string and then vectorise the tags, but these values do not have judgement in them like the strings with the actual reviews. These are more general so could be considered more as categories than having sentiment, for this reason we will want to encode these so that we know which data points are similar in this way. There is an issue in that there is a lot of data that can be considered here, below we look at the length of long the longest list of tags."
   ]
  },
  {
   "cell_type": "code",
   "execution_count": 63,
   "id": "729fcabb",
   "metadata": {},
   "outputs": [
    {
     "data": {
      "text/plain": [
       "213"
      ]
     },
     "execution_count": 63,
     "metadata": {},
     "output_type": "execute_result"
    }
   ],
   "source": [
    "# Longest tags list\n",
    "max(hr_clean['Tags'].apply(len))"
   ]
  },
  {
   "cell_type": "markdown",
   "id": "3c792aaf",
   "metadata": {},
   "source": [
    "We will not find value in all of the tags, but it is useful to have access to these so that we can find which are useful in predicting `Reviewer_Score`. For this reason we will encode these tags below using a count vectoriser, but without any tokenisation. We hope to end up with a matrix of tag appearances in each row. "
   ]
  },
  {
   "cell_type": "markdown",
   "id": "1d0cc843",
   "metadata": {},
   "source": [
    "Having looked at all of the non-numeric variables we can summarise our intentions for how we will use them going forward:\n",
    "\n",
    "#### Non-Numeric Variables to Consider Encoding to Numeric:\n",
    "- `Hotel_Address` \n",
    "- `Reviewer Nationality` \n",
    "- `Negative_Review`\n",
    "- `Positive_Review`\n",
    "- `Tags`\n",
    "\n",
    "#### Non-Numeric Variable to be turned to a numeric:\n",
    "- `days_since_review` - Turned from string to int\n",
    "\n",
    "\n",
    "#### Non-Numeric Variables likely to be removed:\n",
    "- `Hotel_Name` (Covered with `Hotel_Address`)\n",
    "- `Review_Date` (Covered with `days_since_review`)\n",
    "\n",
    "As we have made no changes during our EDA we can use the cleaned version of the data (exported as `Hotel_Reviews_Clean.csv`) in our data preprocessing. "
   ]
  },
  {
   "cell_type": "markdown",
   "id": "b27c39ed",
   "metadata": {},
   "source": [
    "## Conclusion <a id=Conclusion a>"
   ]
  },
  {
   "cell_type": "code",
   "execution_count": null,
   "id": "9d54e38e",
   "metadata": {},
   "outputs": [],
   "source": []
  }
 ],
 "metadata": {
  "kernelspec": {
   "display_name": "Python 3 (ipykernel)",
   "language": "python",
   "name": "python3"
  },
  "language_info": {
   "codemirror_mode": {
    "name": "ipython",
    "version": 3
   },
   "file_extension": ".py",
   "mimetype": "text/x-python",
   "name": "python",
   "nbconvert_exporter": "python",
   "pygments_lexer": "ipython3",
   "version": "3.8.13"
  }
 },
 "nbformat": 4,
 "nbformat_minor": 5
}
